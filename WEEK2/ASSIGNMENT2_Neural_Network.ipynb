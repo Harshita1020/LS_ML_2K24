{
  "nbformat": 4,
  "nbformat_minor": 0,
  "metadata": {
    "colab": {
      "provenance": []
    },
    "kernelspec": {
      "name": "python3",
      "display_name": "Python 3"
    },
    "language_info": {
      "name": "python"
    }
  },
  "cells": [
    {
      "cell_type": "code",
      "execution_count": 1,
      "metadata": {
        "id": "D3edqNr0Ufoo"
      },
      "outputs": [],
      "source": [
        "import numpy as np\n",
        "import tensorflow as tf\n",
        "from tensorflow.keras.preprocessing.image import ImageDataGenerator\n",
        "from tensorflow.keras.models import Sequential\n",
        "from tensorflow.keras.layers import Dense, Flatten\n",
        "from sklearn.model_selection import train_test_split\n",
        "import cv2\n",
        "import os\n",
        "\n",
        "# Define image size and batch size\n",
        "image_size = (64, 64)\n",
        "batch_size = 32\n",
        "\n",
        "# Paths to the directories\n",
        "extraction_dir = '/content/drive/MyDrive/Dataset/homer_bart'\n",
        "bart_dir = os.path.join(extraction_dir, 'Bart')\n",
        "homer_dir = os.path.join(extraction_dir, 'Homer')"
      ]
    },
    {
      "cell_type": "code",
      "source": [
        "# Function to load images from a directory, resize and label them\n",
        "def load_images_from_directory(directory, label):\n",
        "    images = []\n",
        "    labels = []\n",
        "    for filename in os.listdir(directory):\n",
        "        img_path = os.path.join(directory, filename)\n",
        "        img = cv2.imread(img_path)\n",
        "        if img is not None:\n",
        "            img = cv2.resize(img, image_size)\n",
        "            images.append(img)\n",
        "            labels.append(label)\n",
        "    return images, labels"
      ],
      "metadata": {
        "id": "b3Q0zz_jVog7"
      },
      "execution_count": 2,
      "outputs": []
    },
    {
      "cell_type": "code",
      "source": [
        "# Load images and labels from both directories\n",
        "bart_images, bart_labels = load_images_from_directory(bart_dir, 0)\n",
        "homer_images, homer_labels = load_images_from_directory(homer_dir, 1)\n",
        "\n",
        "# Combine the images and labels from both classes\n",
        "images = np.array(bart_images + homer_images)\n",
        "labels = np.array(bart_labels + homer_labels)\n"
      ],
      "metadata": {
        "id": "sduAqZ3RVyRe"
      },
      "execution_count": 3,
      "outputs": []
    },
    {
      "cell_type": "code",
      "source": [
        "# Normalize the images\n",
        "images = images / 255.0\n",
        "\n",
        "# Split the data into training and test sets (9:1 split)\n",
        "train_images, test_images, train_labels, test_labels = train_test_split(images, labels, test_size=0.1, random_state=42)"
      ],
      "metadata": {
        "id": "X6n0Oyj-ZYJ1"
      },
      "execution_count": 4,
      "outputs": []
    },
    {
      "cell_type": "code",
      "source": [
        "# Create data generators for training and test datasets\n",
        "train_datagen = ImageDataGenerator()\n",
        "test_datagen = ImageDataGenerator()\n",
        "\n",
        "train_generator = train_datagen.flow(train_images, train_labels, batch_size=batch_size)\n",
        "test_generator = test_datagen.flow(test_images, test_labels, batch_size=batch_size)"
      ],
      "metadata": {
        "id": "x6z84P2DZaGC"
      },
      "execution_count": 5,
      "outputs": []
    },
    {
      "cell_type": "code",
      "source": [
        "# Build the model\n",
        "model = Sequential([\n",
        "    Flatten(input_shape=(64, 64, 3)),\n",
        "    Dense(128, activation='relu'),\n",
        "    Dense(64, activation='relu'),\n",
        "    Dense(32, activation='relu'),\n",
        "    Dense(1, activation='sigmoid')\n",
        "])\n"
      ],
      "metadata": {
        "id": "oB3YyzaXZkXa"
      },
      "execution_count": 6,
      "outputs": []
    },
    {
      "cell_type": "code",
      "source": [
        "# Compile the model\n",
        "model.compile(optimizer='adam', loss='binary_crossentropy', metrics=['accuracy'])\n",
        "\n",
        "# Train the model\n",
        "history = model.fit(train_generator, epochs=20, validation_data=test_generator)\n",
        "\n",
        "# Evaluate the model\n",
        "test_loss, test_accuracy = model.evaluate(test_generator)\n",
        "print(f'Test Accuracy: {test_accuracy:.4f}')"
      ],
      "metadata": {
        "colab": {
          "base_uri": "https://localhost:8080/"
        },
        "id": "86mH154YZmOT",
        "outputId": "19743863-079f-4549-af2b-3ec7cf8faada"
      },
      "execution_count": 11,
      "outputs": [
        {
          "output_type": "stream",
          "name": "stdout",
          "text": [
            "Epoch 1/20\n",
            "8/8 [==============================] - 1s 52ms/step - loss: 1.0169 - accuracy: 0.7686 - val_loss: 1.3042 - val_accuracy: 0.6667\n",
            "Epoch 2/20\n",
            "8/8 [==============================] - 0s 31ms/step - loss: 0.2873 - accuracy: 0.8926 - val_loss: 3.4799 - val_accuracy: 0.5926\n",
            "Epoch 3/20\n",
            "8/8 [==============================] - 0s 30ms/step - loss: 0.2601 - accuracy: 0.9174 - val_loss: 1.9441 - val_accuracy: 0.6296\n",
            "Epoch 4/20\n",
            "8/8 [==============================] - 0s 32ms/step - loss: 0.0432 - accuracy: 0.9793 - val_loss: 1.6985 - val_accuracy: 0.7407\n",
            "Epoch 5/20\n",
            "8/8 [==============================] - 0s 28ms/step - loss: 0.0546 - accuracy: 0.9917 - val_loss: 1.4830 - val_accuracy: 0.6667\n",
            "Epoch 6/20\n",
            "8/8 [==============================] - 0s 29ms/step - loss: 0.0216 - accuracy: 0.9876 - val_loss: 1.5670 - val_accuracy: 0.7037\n",
            "Epoch 7/20\n",
            "8/8 [==============================] - 0s 26ms/step - loss: 0.0060 - accuracy: 1.0000 - val_loss: 1.7996 - val_accuracy: 0.6296\n",
            "Epoch 8/20\n",
            "8/8 [==============================] - 0s 28ms/step - loss: 0.0120 - accuracy: 1.0000 - val_loss: 1.0826 - val_accuracy: 0.7407\n",
            "Epoch 9/20\n",
            "8/8 [==============================] - 0s 26ms/step - loss: 0.0052 - accuracy: 1.0000 - val_loss: 1.4747 - val_accuracy: 0.7037\n",
            "Epoch 10/20\n",
            "8/8 [==============================] - 0s 31ms/step - loss: 0.0022 - accuracy: 1.0000 - val_loss: 1.0282 - val_accuracy: 0.7778\n",
            "Epoch 11/20\n",
            "8/8 [==============================] - 0s 27ms/step - loss: 1.5560e-04 - accuracy: 1.0000 - val_loss: 1.0690 - val_accuracy: 0.8148\n",
            "Epoch 12/20\n",
            "8/8 [==============================] - 0s 30ms/step - loss: 4.0673e-04 - accuracy: 1.0000 - val_loss: 1.1148 - val_accuracy: 0.8148\n",
            "Epoch 13/20\n",
            "8/8 [==============================] - 0s 28ms/step - loss: 4.5015e-04 - accuracy: 1.0000 - val_loss: 1.0846 - val_accuracy: 0.8148\n",
            "Epoch 14/20\n",
            "8/8 [==============================] - 0s 30ms/step - loss: 2.8094e-04 - accuracy: 1.0000 - val_loss: 1.0452 - val_accuracy: 0.7778\n",
            "Epoch 15/20\n",
            "8/8 [==============================] - 0s 31ms/step - loss: 1.6707e-04 - accuracy: 1.0000 - val_loss: 1.0273 - val_accuracy: 0.7778\n",
            "Epoch 16/20\n",
            "8/8 [==============================] - 0s 57ms/step - loss: 1.2732e-04 - accuracy: 1.0000 - val_loss: 1.0220 - val_accuracy: 0.7407\n",
            "Epoch 17/20\n",
            "8/8 [==============================] - 0s 49ms/step - loss: 1.1644e-04 - accuracy: 1.0000 - val_loss: 1.0210 - val_accuracy: 0.7407\n",
            "Epoch 18/20\n",
            "8/8 [==============================] - 0s 52ms/step - loss: 1.1327e-04 - accuracy: 1.0000 - val_loss: 1.0212 - val_accuracy: 0.7407\n",
            "Epoch 19/20\n",
            "8/8 [==============================] - 0s 50ms/step - loss: 1.1258e-04 - accuracy: 1.0000 - val_loss: 1.0214 - val_accuracy: 0.7407\n",
            "Epoch 20/20\n",
            "8/8 [==============================] - 0s 54ms/step - loss: 1.1252e-04 - accuracy: 1.0000 - val_loss: 1.0216 - val_accuracy: 0.7407\n",
            "1/1 [==============================] - 0s 79ms/step - loss: 1.0216 - accuracy: 0.7407\n",
            "Test Accuracy: 0.7407\n"
          ]
        }
      ]
    }
  ]
}