{
  "nbformat": 4,
  "nbformat_minor": 0,
  "metadata": {
    "colab": {
      "provenance": []
    },
    "kernelspec": {
      "name": "python3",
      "display_name": "Python 3"
    },
    "language_info": {
      "name": "python"
    }
  },
  "cells": [
    {
      "cell_type": "code",
      "execution_count": 1,
      "metadata": {
        "id": "-zTLHrFCT6KY"
      },
      "outputs": [],
      "source": [
        "import numpy as np\n",
        "import pandas as pd\n",
        "import matplotlib.pyplot as plt\n",
        "\n",
        "# Aim is to predict the marks of students of the test data"
      ]
    },
    {
      "cell_type": "code",
      "source": [
        "# Use the file namd 'training data' to train the model\n",
        "\n",
        "data = pd.read_excel('/content/drive/MyDrive/Dataset/Training data.xlsx')\n",
        "x_train = np.array(data.iloc[:,0:8])\n",
        "y_train = np.array(data.iloc[:,8]).reshape(-1,1)\n",
        "\n",
        "# Try plotting y_train with different features\n",
        "# To get an idea whether to add some features or not\n",
        "# Add some features if required in x_train\n",
        "\n",
        "# Also do label encoding for features not represented in numbers\n",
        "# refer the link if not know : https://youtu.be/589nCGeWG1w?si=t2Wa7LgbUOO4RooM\n",
        "\n",
        "def feature_changing(x_train):\n",
        "  # Encode categorical features if any\n",
        "    for i in range(x_train.shape[1]):\n",
        "        if isinstance(x_train[0, i], str):\n",
        "            unique_values = list(set(x_train[:, i]))\n",
        "            value_to_int = {val: idx for idx, val in enumerate(unique_values)}\n",
        "            x_train[:, i] = [value_to_int[val] for val in x_train[:, i]]\n",
        "    return x_train.astype(float)\n",
        "\n",
        "x_train = feature_changing(x_train)"
      ],
      "metadata": {
        "id": "p0KHq8ZgTpU4"
      },
      "execution_count": 6,
      "outputs": []
    },
    {
      "cell_type": "code",
      "source": [
        "from google.colab import drive\n",
        "drive.mount('/content/drive')"
      ],
      "metadata": {
        "colab": {
          "base_uri": "https://localhost:8080/"
        },
        "id": "h1EqWOZaSOlF",
        "outputId": "f335198c-1679-4d53-b31e-3da9a1c81591"
      },
      "execution_count": 5,
      "outputs": [
        {
          "output_type": "stream",
          "name": "stdout",
          "text": [
            "Drive already mounted at /content/drive; to attempt to forcibly remount, call drive.mount(\"/content/drive\", force_remount=True).\n"
          ]
        }
      ]
    },
    {
      "cell_type": "code",
      "source": [
        "def z_score(x_train):\n",
        "  x_mean = np.mean(x_train, axis=0)\n",
        "  x_std = np.std(x_train, axis=0)\n",
        "  x_train = (x_train - x_mean) / x_std\n",
        "\n",
        "  return x_train,x_std,x_mean"
      ],
      "metadata": {
        "id": "tYshvtYlVour"
      },
      "execution_count": 11,
      "outputs": []
    },
    {
      "cell_type": "code",
      "source": [
        "def cost(x_train,y_train,w,b):\n",
        "  m = len(y_train)\n",
        "  predictions = x_train.dot(w) + b\n",
        "  loss = (1 / (2 * m)) * np.sum((predictions - y_train) ** 2)\n",
        "  return loss\n",
        ""
      ],
      "metadata": {
        "id": "O5dOwbNbWJWa"
      },
      "execution_count": 32,
      "outputs": []
    },
    {
      "cell_type": "code",
      "source": [
        "# Initialize parameters\n",
        "w = np.zeros((x_train.shape[1], 1))\n",
        "b = 0\n",
        "learning_rate = 0.1\n",
        "iterations = 1000\n",
        "\n",
        "def gradient_descent(x_train,y_train,w,b,learning_rate, iterations):\n",
        "  m=len(y_train)\n",
        "  for i in range(iterations):\n",
        "        predictions = x_train.dot(w) + b\n",
        "        dw = (1 / m) * x_train.T.dot(predictions - y_train)\n",
        "        db = (1 / m) * np.sum(predictions - y_train)\n",
        "        w = w - learning_rate * dw\n",
        "        b = b - learning_rate * db\n",
        "        if i % 100 == 0:\n",
        "            print(f'Iteration {i}, Cost: {cost(x_train, y_train, w, b)}')\n",
        "  return w, b\n",
        "\n",
        "  # ---------\n",
        "    # Your code here\n",
        "    # Choose learning rate yourself\n",
        "  # ---------\n",
        "\n",
        ""
      ],
      "metadata": {
        "id": "hW8p2cTNU74W"
      },
      "execution_count": 35,
      "outputs": []
    },
    {
      "cell_type": "code",
      "source": [
        "x_train = x_train.astype(np.float64)\n",
        "x_train,x_std,x_mean = z_score(x_train)\n",
        "\n",
        "np.random.seed(2147483647)\n",
        "w = np.random.randn(x_train.shape[1],1)\n",
        "b = np.random.randn(1)\n",
        "\n",
        "old_cost = 0\n",
        "\n",
        "while abs(old_cost - cost(x_train,y_train,w,b))>0.00001:\n",
        "  old_cost = cost(x_train,y_train,w,b)\n",
        "  w,b = gradient_descent(x_train,y_train,w,b,learning_rate, iterations)\n",
        "\n",
        "x_predict = pd.read_excel('/content/drive/MyDrive/Dataset/Test data.xlsx').iloc[:,:8].to_numpy()\n",
        "x_predict = feature_changing(x_predict)\n",
        "x_predict = (x_predict - x_mean)/x_std\n",
        "ans = pd.read_excel('/content/drive/MyDrive/Dataset/Test data.xlsx').iloc[:,8].to_numpy()\n",
        "\n",
        "y_predict = np.dot(x_predict,w) + b\n",
        "\n",
        "accuracy = 0\n",
        "for dim in range(len(ans)):\n",
        "  if abs(y_predict[dim]-ans[dim])<0.5: # do not change the tolerance as you'll be checked on +- 0.5 error only\n",
        "    accuracy += 1\n",
        "accuracy = round(accuracy*100/200.0,2)\n",
        "ok = 'Congratulations' if accuracy>95 else 'Optimization required'\n",
        "print(f\"{ok}, your accuracy is {accuracy}%\")"
      ],
      "metadata": {
        "id": "Kl-fioJ5WkYn",
        "colab": {
          "base_uri": "https://localhost:8080/"
        },
        "outputId": "b53c5d9d-8924-4985-f62b-f053abe2bd2e"
      },
      "execution_count": 36,
      "outputs": [
        {
          "output_type": "stream",
          "name": "stdout",
          "text": [
            "Iteration 0, Cost: 2019.7685269224467\n",
            "Iteration 100, Cost: 6.92331033242556e-06\n",
            "Iteration 200, Cost: 5.49772580602508e-06\n",
            "Iteration 300, Cost: 5.497725805000917e-06\n",
            "Iteration 400, Cost: 5.4977258050013495e-06\n",
            "Iteration 500, Cost: 5.4977258050013495e-06\n",
            "Iteration 600, Cost: 5.497725805001271e-06\n",
            "Iteration 700, Cost: 5.497725805001271e-06\n",
            "Iteration 800, Cost: 5.4977258050013495e-06\n",
            "Iteration 900, Cost: 5.497725805001271e-06\n",
            "Iteration 0, Cost: 5.497725805001271e-06\n",
            "Iteration 100, Cost: 5.4977258050013495e-06\n",
            "Iteration 200, Cost: 5.497725805001271e-06\n",
            "Iteration 300, Cost: 5.4977258050013495e-06\n",
            "Iteration 400, Cost: 5.4977258050013495e-06\n",
            "Iteration 500, Cost: 5.497725805001271e-06\n",
            "Iteration 600, Cost: 5.4977258050013495e-06\n",
            "Iteration 700, Cost: 5.497725805001271e-06\n",
            "Iteration 800, Cost: 5.497725805001271e-06\n",
            "Iteration 900, Cost: 5.4977258050013495e-06\n",
            "Optimization required, your accuracy is 0.0%\n"
          ]
        }
      ]
    }
  ]
}